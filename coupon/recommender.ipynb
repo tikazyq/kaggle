{
 "cells": [
  {
   "cell_type": "code",
   "execution_count": 1,
   "metadata": {
    "collapsed": true
   },
   "outputs": [],
   "source": [
    "from pandas import *\n",
    "import numpy as np\n",
    "from datetime import datetime, timedelta"
   ]
  },
  {
   "cell_type": "code",
   "execution_count": 2,
   "metadata": {
    "collapsed": true
   },
   "outputs": [],
   "source": [
    "# helpers\n",
    "def format_purchase_data(coupon_detail_train):\n",
    "    # data structure\n",
    "    user_purchase = {}\n",
    "    for idx in coupon_detail_train.index:\n",
    "        user_id = coupon_detail_train.ix[idx, 'USER_ID_hash']\n",
    "        coupon_id = coupon_detail_train.ix[idx, 'COUPON_ID_hash']\n",
    "\n",
    "        if user_purchase.get(user_id) is None:\n",
    "            user_purchase[user_id] = []\n",
    "        user_purchase[user_id].append(coupon_id)\n",
    "    return user_purchase\n",
    "\n",
    "def get_accuracy(pred, actual):\n",
    "    '''\n",
    "    pred and actual should be in a nested dict format\n",
    "    '''\n",
    "    n = 0\n",
    "    c = 0\n",
    "    for k, v_pred in pred.iteritems():\n",
    "        n += 1\n",
    "        v_actual = actual.get(k)\n",
    "        if v_actual is None:\n",
    "            continue\n",
    "        elif set(v_actual) == set(v_pred):\n",
    "            c += 1\n",
    "        else:\n",
    "            continue\n",
    "#         if n > 0 and (n % 1000) == 0:\n",
    "#             print n\n",
    "    acc = float(c) / n\n",
    "    print 'Total predictions: %d' % n\n",
    "    print 'Correct predictions: %d' % c\n",
    "    print 'Accuracy: %.4f' % acc\n",
    "    return acc"
   ]
  },
  {
   "cell_type": "code",
   "execution_count": 3,
   "metadata": {
    "collapsed": false
   },
   "outputs": [],
   "source": [
    "# load data\n",
    "# users <- read.csv('user_list.csv')\n",
    "users = read_csv('user_list.csv', parse_dates=[0])\n",
    "\n",
    "# lists\n",
    "lists_train = read_csv('coupon_list_train.csv')\n",
    "lists_test = read_csv('coupon_list_test.csv')\n",
    "\n",
    "# coupon detail\n",
    "coupon_detail_train = read_csv('coupon_detail_train.csv')\n",
    "coupon_detail_train_train = coupon_detail_train[coupon_detail_train.I_DATE < '2012-06-16']\n",
    "coupon_detail_train_test = coupon_detail_train[coupon_detail_train.I_DATE >= '2012-06-16']\n",
    "\n",
    "# formatted in nested dict structure\n",
    "coupon_detail_train_train_fmt = format_purchase_data(coupon_detail_train_train)\n",
    "coupon_detail_train_test_fmt = format_purchase_data(coupon_detail_train_test)\n",
    "\n",
    "# area\n",
    "area_train = read_csv('coupon_area_train.csv')\n",
    "area_test = read_csv('coupon_area_test.csv')\n",
    "\n",
    "# visit\n",
    "visit_train = read_csv('coupon_visit_train.csv')"
   ]
  },
  {
   "cell_type": "code",
   "execution_count": 4,
   "metadata": {
    "collapsed": true
   },
   "outputs": [],
   "source": [
    "# normalize features of coupons\n",
    "num_vars = [\n",
    "    'PRICE_RATE',\n",
    "    'CATALOG_PRICE',\n",
    "    'DISPPERIOD',\n",
    "    'VALIDPERIOD',\n",
    "]\n",
    "bin_vars = [\n",
    "    'USABLE_DATE_MON',\n",
    "    'USABLE_DATE_TUE',\n",
    "    'USABLE_DATE_WED',\n",
    "    'USABLE_DATE_THU',\n",
    "    'USABLE_DATE_FRI',\n",
    "    'USABLE_DATE_SAT',\n",
    "    'USABLE_DATE_SUN',\n",
    "    'USABLE_DATE_HOLIDAY',\n",
    "    'USABLE_DATE_BEFORE_HOLIDAY',\n",
    "]\n",
    "for var in num_vars:\n",
    "    lists_train[var + '_norm'] = lists_train[var].astype(float) / np.std(lists_train[var])\n",
    "    \n",
    "fit_vars = bin_vars + [x + '_norm' for x in num_vars]\n",
    "\n",
    "lists_train.ix[:, fit_vars] = lists_train.ix[:, fit_vars].fillna(0)"
   ]
  },
  {
   "cell_type": "code",
   "execution_count": 5,
   "metadata": {
    "collapsed": false
   },
   "outputs": [],
   "source": [
    "# calculate distance\n",
    "def _mod(x):\n",
    "    return np.power(np.power(x, 2).sum(), .5)\n",
    "\n",
    "def cosine(x, y):\n",
    "    x = np.array(x)\n",
    "    y = np.array(y)\n",
    "    \n",
    "    return (x * y).sum() / ( _mod(x) * _mod(y) )\n",
    "    \n",
    "    \n",
    "def calc_sim(x, y, sim_func=cosine):\n",
    "    '''\n",
    "    x, y: vector of numeric features\n",
    "    '''\n",
    "    sim = sim_func(x, y)\n",
    "    \n",
    "    return sim\n",
    "\n",
    "def get_top_items(x, X, topn=None, sim_func=cosine):\n",
    "    if topn is None:\n",
    "        topn = len(X)-1\n",
    "    \n",
    "    sim_arr = []\n",
    "    err_arr = []\n",
    "    for _x in X:\n",
    "        _x = _x[:-1]  # remove the last element (ID)\n",
    "        sim = calc_sim(x, _x, sim_func=sim_func)\n",
    "        if np.isnan(sim):\n",
    "            err_arr.append(_x)\n",
    "        else:\n",
    "            sim_arr.append(sim)\n",
    "    \n",
    "    ret = []\n",
    "    for i in np.argsort(sim_arr)[-topn:]:\n",
    "        ret.append((X[i, -1], sim_arr[i]))\n",
    "    return ret"
   ]
  },
  {
   "cell_type": "code",
   "execution_count": 6,
   "metadata": {
    "collapsed": false
   },
   "outputs": [
    {
     "data": {
      "text/plain": [
       "0.96263281306158266"
      ]
     },
     "execution_count": 6,
     "metadata": {},
     "output_type": "execute_result"
    }
   ],
   "source": [
    "calc_sim(lists_train.ix[0, fit_vars], lists_train.ix[1, fit_vars])"
   ]
  },
  {
   "cell_type": "code",
   "execution_count": 12,
   "metadata": {
    "collapsed": false
   },
   "outputs": [
    {
     "data": {
      "text/plain": [
       "[('4fe8384eaa70c88b673d33ac0e842f45', 0.99248322354488394),\n",
       " ('50c1741fe466fb183cdefe63cf3ee8f3', 0.99248322354488394),\n",
       " ('d1e91d549b5262d9acd8cb3d3f7c8405', 0.99302897810978308),\n",
       " ('d2f902c5482df9bcee095929fca87c86', 0.99477506731066645),\n",
       " ('1c00074b1310d491cb80a4edeb2019fe', 0.99673905652384898),\n",
       " ('8296fc321680ccfca77284d20bc1251e', 0.99821537425465701),\n",
       " ('f4b8c261bf98436f067e9d0f90172d25', 0.99830098111535792),\n",
       " ('61ad0253ea426a710219be23b3dc4ac6', 0.99869526288058608),\n",
       " ('5facc2c8bcb02e93e59c81685d8ea81c', 0.99990196609775461),\n",
       " ('1ede1e9d563ca676c356af05911686fc', 0.99993289886369718)]"
      ]
     },
     "execution_count": 12,
     "metadata": {},
     "output_type": "execute_result"
    }
   ],
   "source": [
    "idx = 100\n",
    "a = get_top_items(lists_train.ix[idx, fit_vars], lists_train.drop(idx).ix[:, fit_vars + ['COUPON_ID_hash']].values, topn=10)\n",
    "a"
   ]
  }
 ],
 "metadata": {
  "kernelspec": {
   "display_name": "Python 2",
   "language": "python",
   "name": "python2"
  },
  "language_info": {
   "codemirror_mode": {
    "name": "ipython",
    "version": 2
   },
   "file_extension": ".py",
   "mimetype": "text/x-python",
   "name": "python",
   "nbconvert_exporter": "python",
   "pygments_lexer": "ipython2",
   "version": "2.7.6"
  }
 },
 "nbformat": 4,
 "nbformat_minor": 0
}
